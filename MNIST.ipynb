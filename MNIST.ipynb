{
 "cells": [
  {
   "cell_type": "markdown",
   "metadata": {},
   "source": [
    "<h1>MNIST</h1>"
   ]
  },
  {
   "cell_type": "markdown",
   "metadata": {},
   "source": [
    "MNIST is a set of 70.000 handwritten small images of digits. Each image is labeled with the digit it represents.\n",
    "<br>\n",
    "The dataset is already split into training set (first 60.000 images) and test set (last 10.000 images)\n",
    "<br>\n",
    "Each image has 784 features -> 28x28 pixels. Each feature represents one pixel's intensity - from 0 to 255 (white to black)"
   ]
  },
  {
   "cell_type": "markdown",
   "metadata": {},
   "source": [
    "### Import libraries"
   ]
  },
  {
   "cell_type": "code",
   "execution_count": 1,
   "metadata": {},
   "outputs": [],
   "source": [
    "import matplotlib.pyplot as plt\n",
    "import numpy as np"
   ]
  },
  {
   "cell_type": "markdown",
   "metadata": {},
   "source": [
    "### Import dataset"
   ]
  },
  {
   "cell_type": "code",
   "execution_count": 2,
   "metadata": {},
   "outputs": [],
   "source": [
    "from sklearn.datasets import fetch_mldata #where MNIST dataset resides\n",
    "\n",
    "mnist_data = fetch_mldata(dataname=\"MNIST original\")"
   ]
  },
  {
   "cell_type": "markdown",
   "metadata": {},
   "source": [
    "### Parse dataset\n",
    "Parse the dataset into set with features and set with labels."
   ]
  },
  {
   "cell_type": "code",
   "execution_count": 3,
   "metadata": {},
   "outputs": [],
   "source": [
    "def parse_data(mnist_data):\n",
    "    return mnist_data[\"data\"], mnist_data[\"target\"]"
   ]
  },
  {
   "cell_type": "markdown",
   "metadata": {},
   "source": [
    "### MNIST details"
   ]
  },
  {
   "cell_type": "code",
   "execution_count": 4,
   "metadata": {},
   "outputs": [
    {
     "name": "stdout",
     "output_type": "stream",
     "text": [
      "Type: <class 'sklearn.utils.Bunch'>\n",
      "Description: mldata.org dataset: mnist-original\n",
      "Shape of features: (70000, 784)\n",
      "Shape of labels: (70000,)\n",
      "Datatype of features: <class 'numpy.ndarray'>\n",
      "Datatype of labels: <class 'numpy.ndarray'>\n"
     ]
    }
   ],
   "source": [
    "print(\"Type:\", type(mnist_data))\n",
    "print(\"Description:\", mnist_data.DESCR)\n",
    "X, y = parse_data(mnist_data=mnist_data)\n",
    "print(\"Shape of features:\", X.shape)\n",
    "print(\"Shape of labels:\", y.shape)\n",
    "print(\"Datatype of features:\", type(X))\n",
    "print(\"Datatype of labels:\", type(y))"
   ]
  },
  {
   "cell_type": "markdown",
   "metadata": {},
   "source": [
    "### Get training and test datasets"
   ]
  },
  {
   "cell_type": "code",
   "execution_count": 5,
   "metadata": {},
   "outputs": [],
   "source": [
    "# training set\n",
    "shuffle_index = np.random.permutation(60000)\n",
    "X_train = X[:60000]\n",
    "y_train = y[:60000]\n",
    "X_train = X_train[shuffle_index]\n",
    "y_train = y_train[shuffle_index]\n",
    "\n",
    "#test set\n",
    "X_test, y_test = X[60000:], y[60000:]"
   ]
  },
  {
   "cell_type": "markdown",
   "metadata": {},
   "source": [
    "### Show random digit"
   ]
  },
  {
   "cell_type": "code",
   "execution_count": 6,
   "metadata": {},
   "outputs": [
    {
     "data": {
      "image/png": "[encoded data removed]",
      "text/plain": [
       "<matplotlib.figure.Figure at 0x1eba0f88eb8>"
      ]
     },
     "metadata": {},
     "output_type": "display_data"
    }
   ],
   "source": [
    "def show_digit(index=np.random.randint(60000)):\n",
    "    image_index = index\n",
    "    random_digit = X_train[image_index]\n",
    "    random_digit_image = random_digit.reshape(28, 28)\n",
    "    plt.imshow(random_digit_image)\n",
    "    plt.axis(\"off\")\n",
    "    plt.title(\"Label value: \" + str(y_train[image_index]))\n",
    "    plt.show()\n",
    "    \n",
    "show_digit()"
   ]
  },
  {
   "cell_type": "markdown",
   "metadata": {},
   "source": [
    "### Is digit 5 or not?"
   ]
  },
  {
   "cell_type": "code",
   "execution_count": 7,
   "metadata": {},
   "outputs": [],
   "source": [
    "y_train_5 = (y_train == 5) # True if 5, False if otherwise\n",
    "y_test_5 = (y_test == 5)"
   ]
  },
  {
   "cell_type": "markdown",
   "metadata": {},
   "source": [
    "# Classifiers\n",
    "<br>\n",
    "Stohastic Gradient Descent classifier"
   ]
  },
  {
   "cell_type": "markdown",
   "metadata": {},
   "source": [
    "## Train"
   ]
  },
  {
   "cell_type": "code",
   "execution_count": 8,
   "metadata": {},
   "outputs": [
    {
     "data": {
      "text/plain": [
       "SGDClassifier(alpha=0.0001, average=False, class_weight=None, epsilon=0.1,\n",
       "       eta0=0.0, fit_intercept=True, l1_ratio=0.15,\n",
       "       learning_rate='optimal', loss='hinge', max_iter=5, n_iter=None,\n",
       "       n_jobs=1, penalty='l2', power_t=0.5, random_state=42, shuffle=True,\n",
       "       tol=None, verbose=0, warm_start=False)"
      ]
     },
     "execution_count": 8,
     "metadata": {},
     "output_type": "execute_result"
    }
   ],
   "source": [
    "from sklearn.linear_model import SGDClassifier\n",
    "import warnings # suppress FutureWarnings\n",
    "\n",
    "warnings.simplefilter(action='ignore', category=FutureWarning)\n",
    "sgd_clf = SGDClassifier(random_state=42)\n",
    "sgd_clf.fit(X=X_train, y=y_train_5)"
   ]
  },
  {
   "cell_type": "markdown",
   "metadata": {},
   "source": [
    "## Predict"
   ]
  },
  {
   "cell_type": "code",
   "execution_count": 9,
   "metadata": {},
   "outputs": [
    {
     "name": "stdout",
     "output_type": "stream",
     "text": [
      "[False False False ..., False False False]\n"
     ]
    }
   ],
   "source": [
    "y_pred = sgd_clf.predict(X_train)\n",
    "print(y_pred)"
   ]
  },
  {
   "cell_type": "markdown",
   "metadata": {},
   "source": [
    "# Performance Measures\n",
    "<br>\n",
    "## Cross Validation\n",
    "<br>\n",
    "K-fold cross-validation: splitting the training set into K-folds, making predictions and evaluating them on each fold using model trained on REMAINING folds"
   ]
  },
  {
   "cell_type": "code",
   "execution_count": 10,
   "metadata": {},
   "outputs": [
    {
     "name": "stdout",
     "output_type": "stream",
     "text": [
      "['0.097', '0.097', '0.098']\n"
     ]
    }
   ],
   "source": [
    "from sklearn.model_selection import StratifiedKFold, cross_val_score\n",
    "from sklearn.base import clone\n",
    "\n",
    "l_cvs = []\n",
    "skfolds = StratifiedKFold(n_splits=3, random_state=42)\n",
    "# Folds have size trunc(n_samples / n_splits)\n",
    "for train_index, test_index in skfolds.split(X=X_train, y=y_train):\n",
    "    clone_clf = clone(sgd_clf)\n",
    "    X_train_folds = X_train[train_index]\n",
    "    y_train_folds = y_train_5[train_index]\n",
    "    X_test_fold = X_train[test_index]\n",
    "    y_test_fold = y_train[test_index]\n",
    "\n",
    "    clone_clf.fit(X=X_train_folds, y=y_train_folds)\n",
    "    y_pred_x_val = clone_clf.predict(X_test_fold)\n",
    "    n_correct = sum(y_pred_x_val == y_test_fold)\n",
    "    cvs = n_correct / len(y_pred_x_val)\n",
    "    l_cvs.append(cvs)\n",
    "l_cvs = [ '%.3f' % elem for elem in l_cvs]\n",
    "print(l_cvs)"
   ]
  },
  {
   "cell_type": "markdown",
   "metadata": {},
   "source": [
    "## Cross Validation score with function from scikit learn"
   ]
  },
  {
   "cell_type": "code",
   "execution_count": 11,
   "metadata": {},
   "outputs": [
    {
     "name": "stdout",
     "output_type": "stream",
     "text": [
      "[ 0.86082783  0.87174359  0.86017903]\n"
     ]
    }
   ],
   "source": [
    "cvs = cross_val_score(estimator=sgd_clf, X=X_train, y=y_train, cv=3, scoring=\"accuracy\")\n",
    "print(cvs)"
   ]
  },
  {
   "cell_type": "markdown",
   "metadata": {},
   "source": [
    "## Test with stupid classifier\n",
    "<br>\n",
    "All digits are classified as not 5.\n",
    "<br>\n",
    "10% of images are not 5 so guessing an image is not 5 will make it right about 90% of the time."
   ]
  },
  {
   "cell_type": "code",
   "execution_count": 12,
   "metadata": {},
   "outputs": [
    {
     "name": "stdout",
     "output_type": "stream",
     "text": [
      "[ 0.90725  0.91195  0.90975]\n"
     ]
    }
   ],
   "source": [
    "from sklearn.base import BaseEstimator\n",
    "\n",
    "class Never5Classifier(BaseEstimator):\n",
    "    def fit(self, X, y=None):\n",
    "        pass\n",
    "    \n",
    "    def predict(self, X):\n",
    "        return np.zeros((len(X), 1), dtype=bool)\n",
    "        \n",
    "never_5_clf = Never5Classifier()\n",
    "cvs_never_5 = cross_val_score(never_5_clf, X_train, y_train_5, cv=3, scoring=\"accuracy\")\n",
    "print(cvs_never_5)"
   ]
  },
  {
   "cell_type": "markdown",
   "metadata": {},
   "source": [
    "## Confusion Matrix\n",
    "<br>\n",
    "Better way to evaluate performance of a classifier.\n",
    "<br>\n",
    "For example: How many times is an image labeled 5 is confused with an image labeled 3.\n",
    "\n",
    "| |Predicted Negative|Predicted Positive|\n",
    "|-| ------------- |-------------|\n",
    "|<b>Actual Negative</b>|True Negative|False Positive|\n",
    "|<b>Actual Positive</b>|False Negative|True Positive|"
   ]
  },
  {
   "cell_type": "code",
   "execution_count": 13,
   "metadata": {},
   "outputs": [
    {
     "name": "stdout",
     "output_type": "stream",
     "text": [
      "[[53538  1041]\n",
      " [ 1409  4012]]\n",
      "First row are non-5 images (negative class)\n",
      "\tTrue negatives (correctly classified as non-5): 53538\n",
      "\tFalse positives (wrongly classified as 5): 1041\n",
      "Second row are 5 images (positive class)\n",
      "\tFalse negatives (wrongly classified as non-5): 1409\n",
      "\tTrue positives (correctly classified as 5): 4012\n"
     ]
    }
   ],
   "source": [
    "# confusion matrix\n",
    "from sklearn.model_selection import cross_val_predict\n",
    "from sklearn.metrics import confusion_matrix\n",
    "\n",
    "y_train_pred = cross_val_predict(estimator=sgd_clf, X=X_train, y=y_train_5, cv=3) #\n",
    "conf_matrix = confusion_matrix(y_train_5, y_train_pred)\n",
    "print(conf_matrix)\n",
    "print(\"First row are non-5 images (negative class)\")\n",
    "print(\"\\tTrue negatives (correctly classified as non-5):\", conf_matrix[0][0])\n",
    "print(\"\\tFalse positives (wrongly classified as 5):\", conf_matrix[0][1])\n",
    "print(\"Second row are 5 images (positive class)\")\n",
    "print(\"\\tFalse negatives (wrongly classified as non-5):\", conf_matrix[1][0])\n",
    "print(\"\\tTrue positives (correctly classified as 5):\", conf_matrix[1][1])"
   ]
  },
  {
   "cell_type": "markdown",
   "metadata": {},
   "source": [
    "## Precision and Recall\n",
    "<br>\n",
    "Recall - sensitivity or true positive rate (TPR)"
   ]
  },
  {
   "cell_type": "code",
   "execution_count": 14,
   "metadata": {},
   "outputs": [
    {
     "name": "stdout",
     "output_type": "stream",
     "text": [
      "Model claims an image representing 5 is correct in 0.794\n",
      "Model detects only 0.74 of the 5s\n"
     ]
    }
   ],
   "source": [
    "from sklearn.metrics import precision_score, recall_score\n",
    "\n",
    "precision = round(precision_score(y_true=y_train_5, y_pred=y_train_pred), 3)\n",
    "recall = round(recall_score(y_true=y_train_5, y_pred=y_train_pred), 3)\n",
    "print(\"Model claims an image representing 5 is correct in\", round(precision, 3))\n",
    "print(\"Model detects only\", round(recall, 3), \"of the 5s\")"
   ]
  },
  {
   "cell_type": "markdown",
   "metadata": {},
   "source": [
    "## Formulas for Precision and Recall\n",
    "<br>\n",
    "### Precision:\n",
    "$\\frac{TP}{TP+FP}$\n",
    "<br>\n",
    "<br>\n",
    "### Recall:\n",
    "$\\frac{TP}{TP+FN}$"
   ]
  },
  {
   "cell_type": "code",
   "execution_count": 15,
   "metadata": {},
   "outputs": [
    {
     "name": "stdout",
     "output_type": "stream",
     "text": [
      "Precision formula: 0.794\n",
      "Recall formula: 0.74\n"
     ]
    }
   ],
   "source": [
    "precision_formula = round(conf_matrix[1][1]/(conf_matrix[1][1] + conf_matrix[0][1]), 3)\n",
    "recall_formula = round(conf_matrix[1][1]/(conf_matrix[1][1] + conf_matrix[1][0]), 3)\n",
    "print(\"Precision formula:\", precision_formula)\n",
    "print(\"Recall formula:\", recall_formula)"
   ]
  },
  {
   "cell_type": "markdown",
   "metadata": {},
   "source": [
    "## $F_{1}$ score\n",
    "<br>\n",
    "$F_{1}$ score is a harmonic mean of precision and recall. Harmonic mean gives more weight to low values.\n",
    "<br>High $F_{1}$ score is expected only if both precision and recall are high. It favours classifiers that have similar precision and recall\n",
    "<br><br>\n",
    "$F_{1}$ = 2 x $\\frac{precision\\cdot recall}{precision + recall}$ = $\\frac{TP}{TP + \\frac{FN+FP}{2}}$"
   ]
  },
  {
   "cell_type": "code",
   "execution_count": 16,
   "metadata": {},
   "outputs": [
    {
     "name": "stdout",
     "output_type": "stream",
     "text": [
      "0.76608745465\n"
     ]
    }
   ],
   "source": [
    "from sklearn.metrics import f1_score\n",
    "f1 = f1_score(y_train_5, y_train_pred)\n",
    "print(f1)"
   ]
  },
  {
   "cell_type": "markdown",
   "metadata": {},
   "source": [
    "## Precision/Recall Tradeoff"
   ]
  },
  {
   "cell_type": "code",
   "execution_count": 17,
   "metadata": {},
   "outputs": [
    {
     "name": "stdout",
     "output_type": "stream",
     "text": [
      "[-347836.32111201]\n",
      "[False]\n"
     ]
    }
   ],
   "source": [
    "y_scores = sgd_clf.decision_function([X_train[36000]]) # returns a score for each instance\n",
    "print(y_scores)\n",
    "threshold = 0\n",
    "y_some_digit_pred = (y_scores > threshold)\n",
    "print(y_some_digit_pred)"
   ]
  },
  {
   "cell_type": "markdown",
   "metadata": {},
   "source": [
    "SGDClassifier uses a threshold equal to 0, so the previous code returns the same result as predict().\n",
    "Below code experiemtns with raised threshold:"
   ]
  },
  {
   "cell_type": "code",
   "execution_count": 18,
   "metadata": {},
   "outputs": [
    {
     "name": "stdout",
     "output_type": "stream",
     "text": [
      "[False]\n"
     ]
    }
   ],
   "source": [
    "threshold = -200000\n",
    "y_some_digit_pred = (y_scores > threshold)\n",
    "print(y_some_digit_pred)"
   ]
  },
  {
   "cell_type": "markdown",
   "metadata": {},
   "source": [
    "Compute precision and recall for all possible threshold"
   ]
  },
  {
   "cell_type": "code",
   "execution_count": 19,
   "metadata": {},
   "outputs": [],
   "source": [
    "y_scores = cross_val_predict(sgd_clf, X_train, y_train_5, cv=3, method=\"decision_function\")[:,1]"
   ]
  },
  {
   "cell_type": "code",
   "execution_count": 20,
   "metadata": {},
   "outputs": [
    {
     "data": {
      "image/png": "[encoded data removed]",
      "text/plain": [
       "<matplotlib.figure.Figure at 0x1eba0facda0>"
      ]
     },
     "metadata": {},
     "output_type": "display_data"
    }
   ],
   "source": [
    "from sklearn.metrics import precision_recall_curve\n",
    "\n",
    "#print(y_train_5.shape, y_scores.shape)\n",
    "precisions, recalls, thresholds = precision_recall_curve(y_train_5, y_scores)\n",
    "\n",
    "def plot_precision_recall_vs_threshold(precisions, recalls, thresholds):\n",
    "    plt.plot(thresholds, precisions[:-1], \"b--\", label=\"Precision\")\n",
    "    plt.plot(thresholds, recalls[:-1], \"g-\", label=\"Recall\")\n",
    "    plt.xlabel(\"Threshold\")\n",
    "    plt.legend(loc=\"upper left\")\n",
    "    plt.ylim([0, 1])\n",
    "plot_precision_recall_vs_threshold(precisions, recalls, thresholds)"
   ]
  },
  {
   "cell_type": "markdown",
   "metadata": {},
   "source": [
    "### Precision versus Recall"
   ]
  },
  {
   "cell_type": "code",
   "execution_count": 21,
   "metadata": {},
   "outputs": [
    {
     "data": {
      "image/png": "[encoded data removed]",
      "text/plain": [
       "<matplotlib.figure.Figure at 0x1eba72bfc50>"
      ]
     },
     "metadata": {},
     "output_type": "display_data"
    }
   ],
   "source": [
    "plt.plot(recalls, precisions) \n",
    "plt.ylim([0, 1])\n",
    "plt.show()"
   ]
  },
  {
   "cell_type": "markdown",
   "metadata": {},
   "source": [
    "#### Aiming for 90% precision\n",
    "From the first plot, 90% precision is at about 120.000."
   ]
  },
  {
   "cell_type": "code",
   "execution_count": 22,
   "metadata": {},
   "outputs": [
    {
     "name": "stdout",
     "output_type": "stream",
     "text": [
      "0.925030978934\n",
      "0.550820881756\n"
     ]
    }
   ],
   "source": [
    "y_train_pred_90 = (y_scores > 120000)\n",
    "precision_90 = precision_score(y_train_5, y_train_pred_90)\n",
    "print(precision_90)\n",
    "recall_90 = recall_score(y_train_5, y_train_pred_90)\n",
    "print(recall_90)"
   ]
  },
  {
   "cell_type": "markdown",
   "metadata": {},
   "source": [
    "<span style=\"color:red\">A high precision classifier is not very useful if its recall is too low!</span>"
   ]
  },
  {
   "cell_type": "markdown",
   "metadata": {},
   "source": [
    "## The ROC Curve\n",
    "The Receiver Operating Characteristic is a tool used with binary classifiers.\n",
    "<br>\n",
    "The ROC curve plots <i>true positive rate</i> (TPR or recall) against <i>false positive rate</i> (FPR). The FPR is the ratio of negative instances that are incorreectly classified as positive."
   ]
  },
  {
   "cell_type": "code",
   "execution_count": 23,
   "metadata": {},
   "outputs": [
    {
     "data": {
      "image/png": "[encoded data removed]",
      "text/plain": [
       "<matplotlib.figure.Figure at 0x1eba76fe208>"
      ]
     },
     "metadata": {},
     "output_type": "display_data"
    }
   ],
   "source": [
    "from sklearn.metrics import roc_curve\n",
    "\n",
    "fpr, tpr, thresholds = roc_curve(y_train_5, y_scores)\n",
    "\n",
    "def plot_roc_curve(fpr, tpr, label=None):\n",
    "    plt.plot(fpr, tpr, linewidth=2, label=label)\n",
    "    plt.plot([0, 1], [0, 1], 'k--')\n",
    "    plt.axis([0, 1, 0, 1])\n",
    "    plt.xlabel('False Positive Rate (FPR)')\n",
    "    plt.ylabel('True Positive Rate (TPR)')\n",
    "plot_roc_curve(fpr, tpr)"
   ]
  },
  {
   "cell_type": "markdown",
   "metadata": {},
   "source": [
    "ROC curve plots sensitivity (recall) versus 1-specificity.\n",
    "<br>\n",
    "Again, there is a tradeoff - the higher the recall (TPR), the more false positives the classifier produces."
   ]
  },
  {
   "cell_type": "markdown",
   "metadata": {},
   "source": [
    "### Area under the curve (AUC)\n",
    "A perfect classifier will have a ROC AUC = 1. Purely random classifier will have ROC AUC = 1"
   ]
  },
  {
   "cell_type": "code",
   "execution_count": 24,
   "metadata": {},
   "outputs": [
    {
     "name": "stdout",
     "output_type": "stream",
     "text": [
      "0.96044038309\n"
     ]
    }
   ],
   "source": [
    "from sklearn.metrics import roc_auc_score\n",
    "\n",
    "roc = roc_auc_score(y_true=y_train_5, y_score=y_scores)\n",
    "print(roc)"
   ]
  },
  {
   "cell_type": "markdown",
   "metadata": {},
   "source": [
    "# Multiclass Classification\n",
    "\n",
    "(aka Multinomial Classifiers) can distinguish between more than two classes.\n",
    "<br>\n",
    "Random Forest, Logistic Regression, KNN or naive Bayes classifiers are <b>directly</b> multi-class classifiers. SVM, Perceptron, Boosting or Linear classifiers are strictly binary classifiers.\n",
    "\n",
    "Scikit-Learn <b>automatically runs One-versus-All (OvA)</b> when binary classification algorithm is used for multi-class classification. Excpetion is only SVM where OvO is used.\n"
   ]
  },
  {
   "cell_type": "code",
   "execution_count": 25,
   "metadata": {},
   "outputs": [
    {
     "data": {
      "image/png": "[encoded data removed]",
      "text/plain": [
       "<matplotlib.figure.Figure at 0x1eb9b727048>"
      ]
     },
     "metadata": {},
     "output_type": "display_data"
    }
   ],
   "source": [
    "image_index = 36000\n",
    "sgd_clf.fit(X_train, y_train)\n",
    "pred = sgd_clf.predict([X_train[image_index]])\n",
    "show_digit(index=image_index)"
   ]
  },
  {
   "cell_type": "markdown",
   "metadata": {},
   "source": [
    "Scikit-Learn trained 10 binary classifiers, got their decision scores and selected the one with the highest score."
   ]
  },
  {
   "cell_type": "code",
   "execution_count": 26,
   "metadata": {},
   "outputs": [
    {
     "name": "stdout",
     "output_type": "stream",
     "text": [
      "[[-386773.24011789 -480331.33360094  -10902.31234292 -384711.77270364\n",
      "  -722793.5643849  -347836.32111201 -639983.82643648 -518414.14575833\n",
      "    -2042.3530303   -74933.13753038]]\n",
      "Index with highest score: 8\n"
     ]
    }
   ],
   "source": [
    "image_index_scores = sgd_clf.decision_function([X_train[image_index]])\n",
    "print(image_index_scores)\n",
    "print(\"Index with highest score:\", np.argmax(image_index_scores))"
   ]
  },
  {
   "cell_type": "markdown",
   "metadata": {},
   "source": [
    "### Force Scikit-Learn to use OvO"
   ]
  },
  {
   "cell_type": "code",
   "execution_count": 27,
   "metadata": {},
   "outputs": [
    {
     "name": "stdout",
     "output_type": "stream",
     "text": [
      "[ 8.]\n",
      "Amount of estimators compared to each other: 45\n"
     ]
    }
   ],
   "source": [
    "from sklearn.multiclass import OneVsOneClassifier\n",
    "\n",
    "ovo_clf = OneVsOneClassifier(SGDClassifier(random_state=42))\n",
    "ovo_clf.fit(X=X_train, y=y_train)\n",
    "ovo_pred = ovo_clf.predict([X_train[image_index]])\n",
    "print(ovo_pred)\n",
    "print(\"Amount of estimators compared to each other:\", len(ovo_clf.estimators_))"
   ]
  },
  {
   "cell_type": "markdown",
   "metadata": {},
   "source": [
    "### Using Random Forest Classifier"
   ]
  },
  {
   "cell_type": "code",
   "execution_count": 28,
   "metadata": {},
   "outputs": [
    {
     "name": "stdout",
     "output_type": "stream",
     "text": [
      "[ 8.]\n",
      "List of probabilites for each class: [[ 0.   0.   0.   0.   0.   0.   0.   0.1  0.9  0. ]]\n"
     ]
    }
   ],
   "source": [
    "from sklearn.ensemble import RandomForestClassifier\n",
    "\n",
    "forest_clf = RandomForestClassifier(random_state=42)\n",
    "forest_clf.fit(X=X_train, y=y_train)\n",
    "forest_pred = forest_clf.predict([X_train[image_index]])\n",
    "print(forest_pred)\n",
    "forest_proba = forest_clf.predict_proba([X_train[image_index]])\n",
    "print(\"List of probabilites for each class:\", forest_proba)"
   ]
  },
  {
   "cell_type": "markdown",
   "metadata": {},
   "source": [
    "### Evaluate Classifiers using cross-validation"
   ]
  },
  {
   "cell_type": "code",
   "execution_count": 29,
   "metadata": {},
   "outputs": [
    {
     "name": "stdout",
     "output_type": "stream",
     "text": [
      "[ 0.86082783  0.87174359  0.86017903]\n"
     ]
    }
   ],
   "source": [
    "multiple_cross_validation_score = cross_val_score(sgd_clf, X_train, y_train, cv=3, scoring=\"accuracy\")\n",
    "print(multiple_cross_validation_score)"
   ]
  },
  {
   "cell_type": "markdown",
   "metadata": {},
   "source": [
    "Random classifier would get you around 10%."
   ]
  },
  {
   "cell_type": "markdown",
   "metadata": {},
   "source": [
    "#### Scaling the inputs\n",
    "Can we improve scores above?"
   ]
  },
  {
   "cell_type": "code",
   "execution_count": 30,
   "metadata": {},
   "outputs": [
    {
     "name": "stdout",
     "output_type": "stream",
     "text": [
      "[ 0.91256749  0.90754538  0.90878632]\n"
     ]
    }
   ],
   "source": [
    "from sklearn.preprocessing import StandardScaler\n",
    "\n",
    "scaler = StandardScaler() # transformer\n",
    "X_train_scaled = scaler.fit_transform(X_train.astype(np.float64))\n",
    "multiple_scaled_cross_validation_score = cross_val_score(sgd_clf, X_train_scaled, y_train, cv=3, scoring=\"accuracy\")\n",
    "print(multiple_scaled_cross_validation_score)"
   ]
  },
  {
   "cell_type": "markdown",
   "metadata": {},
   "source": [
    "# Error Analysis\n",
    "How to improve the model"
   ]
  },
  {
   "cell_type": "markdown",
   "metadata": {},
   "source": [
    "### Confusion metrix"
   ]
  },
  {
   "cell_type": "code",
   "execution_count": 31,
   "metadata": {},
   "outputs": [
    {
     "name": "stdout",
     "output_type": "stream",
     "text": [
      "[[5731    2   14   11   11   51   51    8   40    4]\n",
      " [   1 6475   43   26    6   38   12   13  116   12]\n",
      " [  54   31 5309  102   89   24  105   51  179   14]\n",
      " [  50   41  132 5348    2  231   33   55  144   95]\n",
      " [  23   27   39    9 5372   11   52   33   76  200]\n",
      " [  72   42   30  187   75 4597  120   28  184   86]\n",
      " [  30   22   48    3   43   86 5629    7   50    0]\n",
      " [  25   21   75   29   55   11    7 5793   18  231]\n",
      " [  52  141   74  152   13  158   59   25 5054  123]\n",
      " [  44   36   30   88  170   32    2  195   82 5270]]\n"
     ]
    }
   ],
   "source": [
    "y_train_pred = cross_val_predict(sgd_clf, X_train_scaled, y_train, cv=3)\n",
    "conf_mx = confusion_matrix(y_train, y_train_pred)\n",
    "print(conf_mx)"
   ]
  },
  {
   "cell_type": "code",
   "execution_count": 32,
   "metadata": {},
   "outputs": [
    {
     "data": {
      "image/png": "[encoded data removed]",
      "text/plain": [
       "<matplotlib.figure.Figure at 0x1eba78e8f60>"
      ]
     },
     "metadata": {},
     "output_type": "display_data"
    }
   ],
   "source": [
    "plt.matshow(conf_mx, cmap=plt.cm.gray)\n",
    "plt.show()"
   ]
  },
  {
   "cell_type": "code",
   "execution_count": 33,
   "metadata": {},
   "outputs": [
    {
     "data": {
      "image/png": "[encoded data removed]",
      "text/plain": [
       "<matplotlib.figure.Figure at 0x1eba7a47e48>"
      ]
     },
     "metadata": {},
     "output_type": "display_data"
    }
   ],
   "source": [
    "row_sums = conf_mx.sum(axis=1, keepdims=True)\n",
    "norm_conf_mx = conf_mx / row_sums\n",
    "\n",
    "np.fill_diagonal(norm_conf_mx, 0)\n",
    "#plt.matshow(norm_conf_mx, cmap=plt.cm.coolwarm, )\n",
    "\n",
    "fig = plt.figure()\n",
    "ax = fig.add_subplot(111)\n",
    "cax = ax.matshow(norm_conf_mx, interpolation='nearest')\n",
    "fig.colorbar(cax)\n",
    "plt.xlabel(\"Actual classes\")\n",
    "plt.ylabel(\"Predicted classes\")\n",
    "\n",
    "plt.show()"
   ]
  },
  {
   "cell_type": "markdown",
   "metadata": {},
   "source": [
    "Columns for 8 and 9 seem to have different colors than others, that means many images get misclassified as 8s or 9s.\n",
    "<br>\n",
    "3 and 5 also seem to get confused often."
   ]
  },
  {
   "cell_type": "markdown",
   "metadata": {},
   "source": [
    "#### Analyzing individual errors"
   ]
  },
  {
   "cell_type": "code",
   "execution_count": 34,
   "metadata": {},
   "outputs": [],
   "source": [
    "# copid from https://github.com/ageron/handson-ml/blob/master/03_classification.ipynb\n",
    "def plot_digits(instances, images_per_row=10, **options):\n",
    "    size = 28\n",
    "    images_per_row = min(len(instances), images_per_row)\n",
    "    images = [instance.reshape(size,size) for instance in instances]\n",
    "    n_rows = (len(instances) - 1) // images_per_row + 1\n",
    "    row_images = []\n",
    "    n_empty = n_rows * images_per_row - len(instances)\n",
    "    images.append(np.zeros((size, size * n_empty)))\n",
    "    for row in range(n_rows):\n",
    "        rimages = images[row * images_per_row : (row + 1) * images_per_row]\n",
    "        row_images.append(np.concatenate(rimages, axis=1))\n",
    "    image = np.concatenate(row_images, axis=0)\n",
    "    plt.imshow(image, cmap = plt.cm.binary, **options)\n",
    "    plt.axis(\"off\")"
   ]
  },
  {
   "cell_type": "code",
   "execution_count": 35,
   "metadata": {},
   "outputs": [
    {
     "data": {
      "image/png": "[encoded data removed]",
      "text/plain": [
       "<matplotlib.figure.Figure at 0x1eba8256c88>"
      ]
     },
     "metadata": {},
     "output_type": "display_data"
    }
   ],
   "source": [
    "cl_a, cl_b = 3, 5\n",
    "X_aa = X_train[(y_train == cl_a) & (y_train_pred == cl_a)]\n",
    "X_ab = X_train[(y_train == cl_a) & (y_train_pred == cl_b)]\n",
    "X_ba = X_train[(y_train == cl_b) & (y_train_pred == cl_a)]\n",
    "X_bb = X_train[(y_train == cl_b) & (y_train_pred == cl_b)]\n",
    "plt.figure(figsize=(8,8))\n",
    "plt.subplot(221); plot_digits(X_aa[:25], images_per_row=5)\n",
    "plt.subplot(222); plot_digits(X_ab[:25], images_per_row=5)\n",
    "plt.subplot(223); plot_digits(X_ba[:25], images_per_row=5)\n",
    "plt.subplot(224); plot_digits(X_bb[:25], images_per_row=5)"
   ]
  },
  {
   "cell_type": "markdown",
   "metadata": {},
   "source": [
    "# Multilabel Classification\n",
    "Outputing multiple classes for each instance"
   ]
  },
  {
   "cell_type": "code",
   "execution_count": 36,
   "metadata": {},
   "outputs": [
    {
     "name": "stdout",
     "output_type": "stream",
     "text": [
      "Testing for digit: 8.0\n",
      "Prediction [[ True False]]\n"
     ]
    }
   ],
   "source": [
    "from sklearn.neighbors import KNeighborsClassifier\n",
    "\n",
    "y_train_large = (y_train >= 7)\n",
    "y_train_odd = (y_train % 2 == 1)\n",
    "y_multilabel = np.c_[y_train_large, y_train_odd]\n",
    "#print(list(zip(y_train, y_multilabel))[:11])\n",
    "\n",
    "knn_clf = KNeighborsClassifier()\n",
    "knn_clf.fit(X=X_train, y=y_multilabel)\n",
    "\n",
    "print(\"Testing for digit:\", y_train[36000])\n",
    "knn_pred = knn_clf.predict([X_train[36000]])\n",
    "print(\"Prediction\", knn_pred)"
   ]
  },
  {
   "cell_type": "markdown",
   "metadata": {},
   "source": [
    "### Evaluate Multilabel Classification\n",
    "#### Average $F_{1}$ score across all labels"
   ]
  },
  {
   "cell_type": "code",
   "execution_count": 37,
   "metadata": {},
   "outputs": [
    {
     "name": "stdout",
     "output_type": "stream",
     "text": [
      "0.967959983542\n"
     ]
    }
   ],
   "source": [
    "y_train_knn_pred = cross_val_predict(knn_clf, X_train, y_train, cv=3)\n",
    "f1 = f1_score(y_train, y_train_knn_pred, average=\"macro\")\n",
    "print(f1)"
   ]
  },
  {
   "cell_type": "markdown",
   "metadata": {},
   "source": [
    "### Multioutput Classification\n",
    "Each label can be multiclass.\n",
    "<br>\n",
    "The example below, each label can have multiple values (pixel value ranges from 0 to 255)"
   ]
  },
  {
   "cell_type": "markdown",
   "metadata": {},
   "source": [
    "#### Removing noise from images"
   ]
  },
  {
   "cell_type": "code",
   "execution_count": 38,
   "metadata": {},
   "outputs": [],
   "source": [
    "# Adding random noise to images\n",
    "noise = np.random.randint(0, 100, (len(X_train), 784))\n",
    "X_train_mod = X_train + noise\n",
    "noise = np.random.randint(0, 100, (len(X_test), 784))\n",
    "X_test_mod = X_test + noise\n",
    "y_train_mod = X_train\n",
    "y_test_mod = X_test"
   ]
  },
  {
   "cell_type": "code",
   "execution_count": 39,
   "metadata": {},
   "outputs": [
    {
     "data": {
      "image/png": "[encoded data removed]",
      "text/plain": [
       "<matplotlib.figure.Figure at 0x1ebadee0160>"
      ]
     },
     "metadata": {},
     "output_type": "display_data"
    }
   ],
   "source": [
    "def plot_digit(data):\n",
    "    image = data.reshape(28, 28)\n",
    "    plt.imshow(image, cmap = plt.cm.binary, interpolation=\"nearest\")\n",
    "    plt.axis(\"off\")\n",
    "\n",
    "\n",
    "some_index = 5500\n",
    "plt.subplot(121); plot_digit(X_test_mod[some_index])\n",
    "plt.subplot(122); plot_digit(y_test_mod[some_index])\n",
    "plt.show()"
   ]
  },
  {
   "cell_type": "markdown",
   "metadata": {},
   "source": [
    "#### Clean the image"
   ]
  },
  {
   "cell_type": "code",
   "execution_count": 40,
   "metadata": {},
   "outputs": [
    {
     "data": {
      "image/png": "[encoded data removed]",
      "text/plain": [
       "<matplotlib.figure.Figure at 0x1eba78f1550>"
      ]
     },
     "metadata": {},
     "output_type": "display_data"
    }
   ],
   "source": [
    "knn_clf.fit(X=X_train_mod, y=y_train_mod)\n",
    "clean_digit = knn_clf.predict([X_test_mod[some_index]])\n",
    "plot_digit(clean_digit)"
   ]
  }
 ],
 "metadata": {
  "kernelspec": {
   "display_name": "Python 3",
   "language": "python",
   "name": "python3"
  },
  "language_info": {
   "codemirror_mode": {
    "name": "ipython",
    "version": 3
   },
   "file_extension": ".py",
   "mimetype": "text/x-python",
   "name": "python",
   "nbconvert_exporter": "python",
   "pygments_lexer": "ipython3",
   "version": "3.5.4"
  }
 },
 "nbformat": 4,
 "nbformat_minor": 2
}
